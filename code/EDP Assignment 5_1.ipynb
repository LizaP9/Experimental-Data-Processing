{
 "cells": [
  {
   "cell_type": "code",
   "execution_count": 1,
   "id": "39006b72",
   "metadata": {},
   "outputs": [],
   "source": [
    "#Assignment 5\n",
    "#Tracking of a moving object which trajectory is disturbed by random acceleration\n",
    "#Team 12\n",
    "#Yaroslav Savotin, Elizaveta Pestova, Selamawit\n",
    "#Skoltech, 2023\n",
    "\n",
    "import numpy as np\n",
    "import pandas as pd\n",
    "import matplotlib.pyplot as plt\n",
    "%matplotlib inline"
   ]
  },
  {
   "cell_type": "code",
   "execution_count": 12,
   "id": "903d3d67",
   "metadata": {},
   "outputs": [],
   "source": [
    "#------------№1------------\n",
    "# for trajectory we create process \n",
    "n = 200\n",
    "\n",
    "mu, sigma1 = 0, 0.2**2\n",
    "a = np.random.normal(mu, np.sqrt(sigma1), [n,1])\n",
    "\n",
    "x = [0 for _ in range(n)]\n",
    "v = [0 for _ in range(n)]\n",
    "x[0] = 5\n",
    "v[0] = 1\n",
    "T = 1\n",
    "\n",
    "#with setted formulas we create our model of moution\n",
    "for i in range(1,n):\n",
    "    v[i] = v[i-1] + T*a[i-1]\n",
    "for i in range(1,n):\n",
    "    x[i] = x[i-1] + T*v[i-1] + (a[i-1]*T**2)/2\n",
    "\n",
    "for i in range(1,n):\n",
    "    x[i] = x[i][0]\n",
    "for i in range(1,n):\n",
    "    v[i] = v[i][0] \n",
    "\n",
    "\n",
    "#------------№2------------\n",
    "# normally distributed random noise with zero mathematical expectation and variance \n",
    "mu, sigma2 = 0, 20**2\n",
    "nu = np.random.normal(mu, np.sqrt(sigma2), [n,1])\n",
    "\n",
    "#measurements\n",
    "z = [0 for _ in range(n)]\n",
    "for i in range(n):\n",
    "    z[i] = x[i] + nu[i]    \n",
    "          \n",
    "X = [[0]]*n\n",
    "Z = [[0]]*n\n",
    "X[0] = [[2],\n",
    "    [0]]\n",
    "\n",
    "\n",
    "#for i in range(n):\n",
    "#    X[i] = [[x[i]],\n",
    "#            [v[i]]]"
   ]
  },
  {
   "cell_type": "code",
   "execution_count": 7,
   "id": "10117eee",
   "metadata": {},
   "outputs": [],
   "source": [
    "#------------№3------------\n",
    "Pfi = [[1,T],\n",
    "       [0,1]]\n",
    "G = [[(T**2)/2],\n",
    "    [T]]\n",
    "H = [1,0]\n",
    "\n",
    "for i in range(1,n):\n",
    "    X[i] = np.matmul(Pfi,X[i-1]) + np.matmul(G,[a[i-1]]) \n",
    "for i in range(n):\n",
    "    Z[i] = np.matmul(H,X[i]) + nu[i]"
   ]
  },
  {
   "cell_type": "code",
   "execution_count": 27,
   "id": "c0c08d1a",
   "metadata": {},
   "outputs": [],
   "source": [
    "#------------№4------------\n",
    "#Initial filtration error covariance matrix\n",
    "#P_0,0\n",
    "P = [[10000,0],\n",
    "       [0,10000]]\n",
    "Q = G*np.transpose(G)*sigma1\n",
    "R = sigma2"
   ]
  },
  {
   "cell_type": "code",
   "execution_count": null,
   "id": "afde3f66",
   "metadata": {},
   "outputs": [],
   "source": [
    "#Kalman filter  algorithm"
   ]
  },
  {
   "cell_type": "code",
   "execution_count": 33,
   "id": "94c4ed83",
   "metadata": {},
   "outputs": [],
   "source": []
  }
 ],
 "metadata": {
  "kernelspec": {
   "display_name": "Python 3 (ipykernel)",
   "language": "python",
   "name": "python3"
  },
  "language_info": {
   "codemirror_mode": {
    "name": "ipython",
    "version": 3
   },
   "file_extension": ".py",
   "mimetype": "text/x-python",
   "name": "python",
   "nbconvert_exporter": "python",
   "pygments_lexer": "ipython3",
   "version": "3.11.4"
  }
 },
 "nbformat": 4,
 "nbformat_minor": 5
}
